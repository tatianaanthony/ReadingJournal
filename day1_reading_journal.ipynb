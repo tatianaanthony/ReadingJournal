{
 "cells": [
  {
   "cell_type": "markdown",
   "metadata": {},
   "source": [
    "# Day 1 Reading Journal\n",
    "\n",
    "Hi everyone.  These are the exercises for the first set of readings from ThinkPython.  While this journal consists of several required exercises, it is meant to encourage active reading more generally.  You should use this journal to take detailed notes, catalog questions, and explore the content from ThinkPython deeply.\n",
    "\n",
    "For more information on using the Jupyter notebook, check out the documentation [here](https://www.datacamp.com/community/tutorials/tutorial-jupyter-notebook##UseJupyter).\n",
    "\n",
    "Additionally, in order to write text in this document, you will be making use of Markdown cells. A handy cheatsheet for Markdown is available [here](https://github.com/adam-p/markdown-here/wiki/Markdown-Cheatsheet)."
   ]
  },
  {
   "cell_type": "markdown",
   "metadata": {},
   "source": [
    "## Chapter 1\n",
    "\n",
    "Note: the exercise numbers below match up with the reading for ease of cross referencing."
   ]
  },
  {
   "cell_type": "markdown",
   "metadata": {},
   "source": [
    "### Exercise 1.4\n",
    "\n",
    "Start the Python interpreter and use it as a simple calculator. Python’s syntax for math operations is almost the same as standard mathematical notation. For example, the symbols +, - and / denote addition, subtraction and division, as you would expect. The symbol for multiplication is *\n",
    "\n",
    "* How many seconds are there in 42 minutes 42 seconds?\n",
    "* How many miles are there in 10 kilometers? Hint: there are 1.61 kilometers in a mile.\n",
    "* If you run a 10 kilometer race in 42 minutes 42 seconds, what is your average pace (time per mile in minutes and seconds)? What is your average speed in miles per hour?\n",
    "\n",
    "Please use the following markdown cell to provide your answers."
   ]
  },
  {
   "cell_type": "code",
   "execution_count": 3,
   "metadata": {
    "collapsed": false
   },
   "outputs": [
    {
     "data": {
      "text/plain": [
       "2560"
      ]
     },
     "execution_count": 3,
     "metadata": {},
     "output_type": "execute_result"
    }
   ],
   "source": [
    "42*60+40"
   ]
  },
  {
   "cell_type": "code",
   "execution_count": 5,
   "metadata": {
    "collapsed": false
   },
   "outputs": [
    {
     "data": {
      "text/plain": [
       "6.211180124223602"
      ]
     },
     "execution_count": 5,
     "metadata": {},
     "output_type": "execute_result"
    }
   ],
   "source": [
    "10/1.61"
   ]
  },
  {
   "cell_type": "code",
   "execution_count": 6,
   "metadata": {
    "collapsed": false,
    "scrolled": true
   },
   "outputs": [
    {
     "data": {
      "text/plain": [
       "412.1719529866366"
      ]
     },
     "execution_count": 6,
     "metadata": {},
     "output_type": "execute_result"
    }
   ],
   "source": [
    "2560/6.211"
   ]
  },
  {
   "cell_type": "code",
   "execution_count": 7,
   "metadata": {
    "collapsed": false
   },
   "outputs": [
    {
     "data": {
      "text/plain": [
       "6.866666666666666"
      ]
     },
     "execution_count": 7,
     "metadata": {},
     "output_type": "execute_result"
    }
   ],
   "source": [
    "412/60"
   ]
  },
  {
   "cell_type": "code",
   "execution_count": 8,
   "metadata": {
    "collapsed": false
   },
   "outputs": [
    {
     "data": {
      "text/plain": [
       "51.999999999999964"
      ]
     },
     "execution_count": 8,
     "metadata": {},
     "output_type": "execute_result"
    }
   ],
   "source": [
    "0.866666666666666*60"
   ]
  },
  {
   "cell_type": "code",
   "execution_count": 4,
   "metadata": {
    "collapsed": false
   },
   "outputs": [
    {
     "data": {
      "text/plain": [
       "8.727653570337614"
      ]
     },
     "execution_count": 4,
     "metadata": {},
     "output_type": "execute_result"
    }
   ],
   "source": [
    "(10/1.61)/((42+42/60)/60)"
   ]
  },
  {
   "cell_type": "code",
   "execution_count": null,
   "metadata": {
    "collapsed": true
   },
   "outputs": [],
   "source": []
  },
  {
   "cell_type": "markdown",
   "metadata": {},
   "source": [
    "Bullet point 1\n",
    "---\n",
    "seconds = minutes\\*60 + seconds\\_given\n",
    "\n",
    "-> seconds = 42\\*60 + 42\n",
    "\n",
    "-> seconds = 2560\n",
    "\n",
    "Bullet point 2\n",
    "---\n",
    "10 km \\* 1 mile / 1.61 km = 6.21 miles\n",
    "\n",
    "Bullet point 3 Part 1\n",
    "---\n",
    "\n",
    "2560 seconds / 6.21 miles = 412 seconds/mile\n",
    "\n",
    "-> 6.866666 minutes \n",
    "\n",
    "-> 6 minutes + 0.866666 minutes\n",
    "\n",
    "-> 6 minutes + 0.866666 minutes * 60 seconds / 1 minute\n",
    "\n",
    "-> 6 minutes, 52 secons\n",
    "\n",
    "Bullet point 3 Part 2\n",
    "---\n",
    "6.21 miles / (2560 seconds / (60 seconds/minute) / (60 minutes/hour))\n",
    "\n",
    "-> 8.72 miles/hour"
   ]
  },
  {
   "cell_type": "markdown",
   "metadata": {},
   "source": [
    "## Chapter 2"
   ]
  },
  {
   "cell_type": "markdown",
   "metadata": {},
   "source": [
    "### Exercise\n",
    "\n",
    "Assume that we execute the following assignment statements:\n",
    "\n",
    "```\n",
    "width = 17\n",
    "height = 12.0\n",
    "delimiter = '.'\n",
    "```\n",
    "\n",
    "For each of the following expressions, write the value of the expression and the type (of the value of the expression).\n",
    "\n",
    "Example: `width * 2` <br/>\n",
    "Answer: 34, integer\n",
    "\n",
    "1. `width/2`\n",
    "2. `width/2.0`\n",
    "3. `height/3`\n",
    "4. `1 + 2 * 5`\n",
    "5. `delimiter * 5`\n",
    "\n",
    "Please use the following markdown cell to provide your answer."
   ]
  },
  {
   "cell_type": "code",
   "execution_count": 16,
   "metadata": {
    "collapsed": false,
    "scrolled": true
   },
   "outputs": [
    {
     "name": "stdout",
     "output_type": "stream",
     "text": [
      "1.\n",
      "8.5\n",
      "Type:\n",
      "<class 'float'>\n",
      "\n",
      "2.\n",
      "8.5\n",
      "Type:\n",
      "<class 'float'>\n",
      "\n",
      "3.\n",
      "4.0\n",
      "Type:\n",
      "<class 'float'>\n",
      "\n",
      "4.\n",
      "11\n",
      "Type:\n",
      "<class 'int'>\n",
      "\n",
      "5.\n",
      ".....\n",
      "Type:\n",
      "<class 'str'>\n"
     ]
    }
   ],
   "source": [
    "width = 17\n",
    "height = 12.0\n",
    "delimiter = '.'\n",
    "\n",
    "number1 = width/2\n",
    "print('1.')\n",
    "print(number1)\n",
    "print('Type:')\n",
    "print(type(number1))\n",
    "print('')\n",
    "\n",
    "number2 = width/2.0\n",
    "print('2.')\n",
    "print(number2)\n",
    "print('Type:')\n",
    "print(type(number2))\n",
    "print('')\n",
    "\n",
    "number3 = height/3\n",
    "print('3.')\n",
    "print(number3)\n",
    "print('Type:')\n",
    "print(type(number3))\n",
    "print('')\n",
    "\n",
    "number4 = 1+2*5\n",
    "print('4.')\n",
    "print(number4)\n",
    "print('Type:')\n",
    "print(type(number4))\n",
    "print('')\n",
    "\n",
    "number5 = delimiter * 5\n",
    "print('5.')\n",
    "print(number5)\n",
    "print('Type:')\n",
    "print(type(number5))"
   ]
  },
  {
   "cell_type": "markdown",
   "metadata": {},
   "source": []
  },
  {
   "cell_type": "markdown",
   "metadata": {},
   "source": [
    "### Exercise 2.2\n",
    "\n",
    "Practice using the Python interpreter as a calculator.  For each of these provide Python code that computes each answer."
   ]
  },
  {
   "cell_type": "markdown",
   "metadata": {},
   "source": [
    "The volume of a sphere with radius r is $4/3 \\pi  r^3$. What is the volume of a sphere with radius 5? <br />\n",
    "Hint: 392.7 is wrong! You can approximate pi with 3.14 or import it through the Python math library."
   ]
  },
  {
   "cell_type": "code",
   "execution_count": 18,
   "metadata": {
    "collapsed": false
   },
   "outputs": [
    {
     "name": "stdout",
     "output_type": "stream",
     "text": [
      "1643.2666666666667\n"
     ]
    }
   ],
   "source": [
    "pi = 3.14 #pi\n",
    "r = 5 #radius\n",
    "Volume = pi*4/3 * pi * r**3\n",
    "print(Volume)"
   ]
  },
  {
   "cell_type": "markdown",
   "metadata": {},
   "source": [
    "Suppose the cover price of a book is \\$24.95, but bookstores get a 40% discount. Shipping costs \\$3 for the first copy and 75 cents for each additional copy. What is the total wholesale cost for 60 copies?"
   ]
  },
  {
   "cell_type": "code",
   "execution_count": 20,
   "metadata": {
    "collapsed": false
   },
   "outputs": [
    {
     "name": "stdout",
     "output_type": "stream",
     "text": [
      "945.4499999999999\n"
     ]
    }
   ],
   "source": [
    "cover_price = 24.95\n",
    "after_discount = 0.6 #40% discount leaves 60% paid\n",
    "shipping_initial = 3\n",
    "shipping_each = 0.75\n",
    "copies = 60\n",
    "\n",
    "book_cost = cover_price*after_discount*copies\n",
    "shipping_cost = shipping_initial + shipping_each*(copies-1)\n",
    "\n",
    "wholesale_cost = book_cost + shipping_cost\n",
    "print(wholesale_cost)"
   ]
  },
  {
   "cell_type": "markdown",
   "metadata": {},
   "source": [
    "If I leave my house at 6:52 am and run 1 mile at an easy pace (8:15 per mile), then 3 miles at tempo (7:12 per mile) and 1 mile at easy pace again, what time do I get home for breakfast? "
   ]
  },
  {
   "cell_type": "code",
   "execution_count": 23,
   "metadata": {
    "collapsed": false
   },
   "outputs": [
    {
     "name": "stdout",
     "output_type": "stream",
     "text": [
      "450.1\n",
      "90.1\n"
     ]
    }
   ],
   "source": [
    "easy_miles = 2\n",
    "tempo_miles = 3\n",
    "easy_pace_min = 8\n",
    "easy_pace_sec = 15\n",
    "tempo_pace_min = 7\n",
    "tempo_pace_sec = 12\n",
    "min_sec = 60\n",
    "hour_min = 60\n",
    "\n",
    "\n",
    "easy_pace_total = easy_pace_min + easy_pace_sec/min_sec #total easy pace in miles/minute\n",
    "tempo_pace_total = tempo_pace_min + tempo_pace_sec/min_sec \n",
    "\n",
    "easy_time = easy_miles*easy_pace_total\n",
    "tempo_time = tempo_miles*tempo_pace_total\n",
    "total_time_minutes = easy_time+tempo_time\n",
    "\n",
    "time_start = 6*hour_min+52\n",
    "time_end = time_start + total_time_minutes\n",
    "minutes_end = 52 + total_time_minutes\n",
    "#hours_end = floor(time_end/hour_min)\n",
    "#minutes_end = time_end - hours_end*hour_min\n",
    "\n",
    "#print(hours_end*100+minutes_end)\n",
    "print(time_end)\n",
    "print(minutes_end)"
   ]
  },
  {
   "cell_type": "markdown",
   "metadata": {},
   "source": [
    "the second number there is how many minutes past 6 AM you get back home.  Therefore, you get home at 7:30 AM"
   ]
  },
  {
   "cell_type": "markdown",
   "metadata": {},
   "source": [
    "## Chapter 3"
   ]
  },
  {
   "cell_type": "markdown",
   "metadata": {},
   "source": [
    "### Exercise 3.1\n",
    "\n",
    "Write a function named `right_justify` that takes a string named s as a parameter and prints the string with enough leading spaces so that the last letter of the string is in column 70 of the display.\n",
    "\n",
    "```\n",
    ">>> right_justify('monty')\n",
    "                                                                 monty\n",
    "```\n",
    "Hint: Use string concatenation and repetition. Also, Python provides a built-in function called `len` that returns the length of a string, so the value of `len('monty')` is 5."
   ]
  },
  {
   "cell_type": "code",
   "execution_count": 27,
   "metadata": {
    "collapsed": false
   },
   "outputs": [
    {
     "name": "stdout",
     "output_type": "stream",
     "text": [
      "                                                                 monty\n"
     ]
    }
   ],
   "source": [
    "import math\n",
    "def right_justify(s):\n",
    "    single_space = ' '\n",
    "    num_spaces = 70-len(s)\n",
    "    print(single_space*num_spaces + s)\n",
    "    \n",
    "right_justify('monty')\n"
   ]
  },
  {
   "cell_type": "markdown",
   "metadata": {},
   "source": [
    "### Exercise 3.3\n",
    "\n",
    "Note: This exercise should be done using only the statements and other features we have learned so far.\n",
    "\n",
    "1\\. Write a function that draws a grid like the following:\n",
    "\n",
    "```\n",
    "+ - - - - + - - - - +\n",
    "|         |         |\n",
    "|         |         |\n",
    "|         |         |\n",
    "|         |         |\n",
    "+ - - - - + - - - - +\n",
    "|         |         |\n",
    "|         |         |\n",
    "|         |         |\n",
    "|         |         |\n",
    "+ - - - - + - - - - +\n",
    "```\n",
    "Note: There are four empty spaces between the vertical bars.\n",
    "\n",
    "To print more than one value on a line, you can print a comma-separated sequence of values:\n",
    "\n",
    "```\n",
    "print('+', '-')\n",
    "```\n",
    "\n",
    "By default, `print` advances to the next line, but you can override that behavior and put a space at the end, like this:\n",
    "\n",
    "```\n",
    "print('+', end=' ')\n",
    "print('-')\n",
    "```\n",
    "\n",
    "The output of these statements is '+ -'.\n",
    "\n",
    "A `print` statement with no argument ends the current line and goes to the next line."
   ]
  },
  {
   "cell_type": "code",
   "execution_count": 57,
   "metadata": {
    "collapsed": false
   },
   "outputs": [
    {
     "name": "stdout",
     "output_type": "stream",
     "text": [
      "+ - - - - + - - - - + \n",
      "|         |         | \n",
      "|         |         | \n",
      "|         |         | \n",
      "|         |         | \n",
      "+ - - - - + - - - - + \n",
      "|         |         | \n",
      "|         |         | \n",
      "|         |         | \n",
      "|         |         | \n",
      "+ - - - - + - - - - + \n"
     ]
    }
   ],
   "source": [
    "def do_four(x):\n",
    "    x()\n",
    "    x()\n",
    "    x()\n",
    "    x()\n",
    "   \n",
    "    \n",
    "bar = \"- - - - + \"\n",
    "column = \"        | \"\n",
    "num_grids = 2 #number of grids\n",
    "\n",
    "def make_column():\n",
    "    print(\"| \" + column*2)\n",
    "    \n",
    "def make_bar():\n",
    "    print(\"+ \" + bar*2)\n",
    "\n",
    "def make_basket():\n",
    "    do_four(make_column)\n",
    "    make_bar()\n",
    "\n",
    "    \n",
    "make_bar()\n",
    "make_basket()\n",
    "make_basket()\n",
    "\n"
   ]
  },
  {
   "cell_type": "markdown",
   "metadata": {},
   "source": [
    "2\\. Write a function that draws a similar grid with four rows and four columns."
   ]
  },
  {
   "cell_type": "code",
   "execution_count": 59,
   "metadata": {
    "collapsed": false
   },
   "outputs": [
    {
     "name": "stdout",
     "output_type": "stream",
     "text": [
      "+ - - - - + - - - - + - - - - + - - - - + \n",
      "|         |         |         |         | \n",
      "|         |         |         |         | \n",
      "|         |         |         |         | \n",
      "|         |         |         |         | \n",
      "+ - - - - + - - - - + - - - - + - - - - + \n",
      "|         |         |         |         | \n",
      "|         |         |         |         | \n",
      "|         |         |         |         | \n",
      "|         |         |         |         | \n",
      "+ - - - - + - - - - + - - - - + - - - - + \n",
      "|         |         |         |         | \n",
      "|         |         |         |         | \n",
      "|         |         |         |         | \n",
      "|         |         |         |         | \n",
      "+ - - - - + - - - - + - - - - + - - - - + \n",
      "|         |         |         |         | \n",
      "|         |         |         |         | \n",
      "|         |         |         |         | \n",
      "|         |         |         |         | \n",
      "+ - - - - + - - - - + - - - - + - - - - + \n"
     ]
    }
   ],
   "source": [
    "def do_four(x):\n",
    "    x()\n",
    "    x()\n",
    "    x()\n",
    "    x()\n",
    "   \n",
    "    \n",
    "bar = \"- - - - + \"\n",
    "column = \"        | \"\n",
    "num_grids = 4 #number of grids\n",
    "\n",
    "def make_column():\n",
    "    print(\"| \" + column*num_grids)\n",
    "    \n",
    "def make_bar():\n",
    "    print(\"+ \" + bar*num_grids)\n",
    "\n",
    "def make_basket():\n",
    "    do_four(make_column)\n",
    "    make_bar()\n",
    "\n",
    "    \n",
    "make_bar()\n",
    "do_four(make_basket)"
   ]
  },
  {
   "cell_type": "markdown",
   "metadata": {},
   "source": [
    "## Chapter 5.1 - 5.7"
   ]
  },
  {
   "cell_type": "markdown",
   "metadata": {},
   "source": [
    "### Exercise 5.2\n",
    "\n",
    "Fermat’s Last Theorem says that there are no positive integers $a$, $b$, and $c$ such that $$a^n + b^n = c^n$$ for any values of $n$ greater than 2.\n",
    "\n",
    "1\\. Write a function named `check_fermat` that takes four parameters – $a$, $b$, $c$ and $n$ – and that checks to see if Fermat’s theorem holds. If n is greater than 2 and it turns out to be true that\n",
    "$a^n + b^n = c^n$, then the program should print: \"Holy smokes, Fermat was wrong!\" Otherwise the program should print: \"No, that doesn’t work.\""
   ]
  },
  {
   "cell_type": "code",
   "execution_count": 62,
   "metadata": {
    "collapsed": false
   },
   "outputs": [
    {
     "name": "stdout",
     "output_type": "stream",
     "text": [
      "No, that doesn't work.\n"
     ]
    }
   ],
   "source": [
    "def check_fermat(a,b,c,n):\n",
    "    if a**n + b**n == c**n and n>2:\n",
    "        print(\"Holy smokes, Fermat was wrong!\")\n",
    "    else: \n",
    "        print(\"No, that doesn't work.\")\n",
    "    \n",
    "check_fermat(3,4,5,2)"
   ]
  },
  {
   "cell_type": "markdown",
   "metadata": {},
   "source": [
    "2\\. Write a function that prompts the user to input values for $a$, $b$, $c$ and $n$, converts them to integers, and uses `check_fermat` to check whether they violate Fermat’s theorem."
   ]
  },
  {
   "cell_type": "code",
   "execution_count": 65,
   "metadata": {
    "collapsed": false
   },
   "outputs": [
    {
     "name": "stdout",
     "output_type": "stream",
     "text": [
      "What is a?\n",
      "1\n",
      "what is b?\n",
      "2\n",
      "what is c?\n",
      "3\n",
      "what is n?\n",
      "4\n",
      "No, that doesn't work.\n"
     ]
    }
   ],
   "source": [
    "def check_fermat(a,b,c,n):\n",
    "    if a**n + b**n == c**n and n>2:\n",
    "        print(\"Holy smokes, Fermat was wrong!\")\n",
    "    else: \n",
    "        print(\"No, that doesn't work.\")\n",
    "        \n",
    "def ask_fermat():\n",
    "    prompta = \"What is a?\\n\"\n",
    "    promptb = \"what is b?\\n\"\n",
    "    promptc = \"what is c?\\n\"\n",
    "    promptn = \"what is n?\\n\"\n",
    "    \n",
    "    a = input(prompta)\n",
    "    b = input(promptb)\n",
    "    c = input(promptc)\n",
    "    n = input(promptn)\n",
    "    \n",
    "    check_fermat(int(a),int(b),int(c),int(n))\n",
    "\n",
    "ask_fermat()"
   ]
  },
  {
   "cell_type": "markdown",
   "metadata": {},
   "source": [
    "### Exercise 5.3 \n",
    "\n",
    "If you are given three sticks, you may or may not be able to arrange them in a triangle. For example, if one of the sticks is 12 inches long and the other two are one inch long, it is clear that you will not be able to get the short sticks to meet in the middle. For any three lengths, there is a simple test to see if it is possible to form a triangle:\n",
    "> If any of the three lengths is greater than the sum of the other two, then you cannot form a triangle. Otherwise, you can. (If the sum of two lengths equals the third, they form what is called a “degenerate” triangle.)\n",
    "\n",
    "1\\. Write a function named `is_triangle` that takes three integers as arguments, and that prints either \"Yes\" or \"No,\" depending on whether you can or cannot form a triangle from sticks with the given lengths."
   ]
  },
  {
   "cell_type": "code",
   "execution_count": 67,
   "metadata": {
    "collapsed": false
   },
   "outputs": [
    {
     "name": "stdout",
     "output_type": "stream",
     "text": [
      "Yes\n"
     ]
    }
   ],
   "source": [
    "def is_triangle(a,b,c):\n",
    "    if a+b<=c or a+c<=b or b+c<=a:\n",
    "        print(\"No\")\n",
    "    else:\n",
    "        print(\"Yes\")\n",
    "\n",
    "is_triangle(12,1,12)"
   ]
  },
  {
   "cell_type": "markdown",
   "metadata": {},
   "source": [
    "2\\. Write a function that prompts the user to input three stick lengths, converts them to integers, and uses `is_triangle` to check whether sticks with the given lengths can form a triangle."
   ]
  },
  {
   "cell_type": "code",
   "execution_count": 69,
   "metadata": {
    "collapsed": false
   },
   "outputs": [
    {
     "name": "stdout",
     "output_type": "stream",
     "text": [
      "What is a?\n",
      "1\n",
      "what is b?\n",
      "1\n",
      "what is c?\n",
      "3\n",
      "No\n"
     ]
    }
   ],
   "source": [
    "def is_triangle(a,b,c):\n",
    "    if a+b<=c or a+c<=b or b+c<=a:\n",
    "        print(\"No\")\n",
    "    else:\n",
    "        print(\"Yes\")\n",
    "        \n",
    "def is_triangle_prompt():\n",
    "    prompta = \"What is a?\\n\"\n",
    "    promptb = \"what is b?\\n\"\n",
    "    promptc = \"what is c?\\n\"\n",
    "    promptn = \"what is n?\\n\"\n",
    "    \n",
    "    a = int(input(prompta))\n",
    "    b = int(input(promptb))\n",
    "    c = int(input(promptc))\n",
    "    \n",
    "    is_triangle(a,b,c)\n",
    "    \n",
    "is_triangle_prompt()\n",
    " "
   ]
  },
  {
   "cell_type": "markdown",
   "metadata": {},
   "source": [
    "## Quick poll\n",
    "About how long did you spend working on this Reading Journal?"
   ]
  },
  {
   "cell_type": "markdown",
   "metadata": {},
   "source": [
    "2 hours"
   ]
  },
  {
   "cell_type": "markdown",
   "metadata": {},
   "source": [
    "## Notes for the Instructors\n",
    "\n",
    "Please use the space below to write comments to help us plan the next class session.  For instance, if you want to see us go over an example of a particular type of problem, you can indicate that here.\n",
    "\n",
    "Please remember that the best way to get quick feedback from the instructors as well as your peers, is to use Piazza.  However, consider using this channel if it doesn't make sense to post your note to Piazza."
   ]
  },
  {
   "cell_type": "markdown",
   "metadata": {},
   "source": [
    "I'm struggling with syntax but I think that's it."
   ]
  }
 ],
 "metadata": {
  "kernelspec": {
   "display_name": "Python 3",
   "language": "python",
   "name": "python3"
  },
  "language_info": {
   "codemirror_mode": {
    "name": "ipython",
    "version": 3
   },
   "file_extension": ".py",
   "mimetype": "text/x-python",
   "name": "python",
   "nbconvert_exporter": "python",
   "pygments_lexer": "ipython3",
   "version": "3.5.2"
  }
 },
 "nbformat": 4,
 "nbformat_minor": 0
}
